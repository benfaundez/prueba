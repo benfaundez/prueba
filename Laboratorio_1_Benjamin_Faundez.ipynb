{
 "cells": [
  {
   "cell_type": "markdown",
   "metadata": {
    "colab_type": "text",
    "id": "LC15HlaVwPHd"
   },
   "source": [
    "# Laboratorio 1. EAE253B\n",
    "<hr/>\n",
    "\n",
    "**Instrucciones:**\n",
    "\n",
    "- Laboratorio debe ser realizado **de forma individual**. Obviamente, se pueden discutir ideas, pero cualquier intercambio de códigos **no está permitido**.\n",
    "- Sólo se evaluarán secciones \"**TAREAS**\"; pero se recomienda realizar secciones **EJERCICIOS**\n",
    "- Descargue tanto el laboratorio como los archivos build.png y helper_f.py. Estos tres deben estar en una **misma** carpeta para su correcto funcionamiento.\n",
    "- Al finalizar, debe descargar el archivo \".ipynb\" a su equipo y luego subirlo a Canvas, identificando el número de laboratorio y su nombre (ej: Lab1_CAlvarado.ipynb).\n",
    "- Plazo de entrega: **Martes 25 de Agosto, 23.59hrs.*\n"
   ]
  },
  {
   "cell_type": "markdown",
   "metadata": {
    "colab_type": "text",
    "id": "OxRXN_HmvJOy"
   },
   "source": [
    "### Repaso 1: Tipos de datos básicos\n",
    "Los tipos de datos básicos que encontramos en Python son:\n",
    "\n",
    "- números (int o float)\n",
    "- booleanos (True o False)\n",
    "- nada (None)"
   ]
  },
  {
   "cell_type": "code",
   "execution_count": 2,
   "metadata": {
    "colab": {},
    "colab_type": "code",
    "id": "7DMoXWl4wy_-"
   },
   "outputs": [],
   "source": [
    "# estos objetos son numeros\n",
    "#Float son los que tienen decimal\n",
    "\n",
    "num1 = 3\n",
    "num2 = 7 / 8\n",
    "num3 = 0.4\n",
    "\n",
    "# estos objetos son \"objetos especiales\"\n",
    "\n",
    "flag1 = True   # este es booleano \n",
    "flag2 = False  # este es booleano\n",
    "flag3 = None   # este es \"NoneType\"\n",
    "\n",
    "# Tener en cuenta que los booleanos también pueden ser interpretados como números\n",
    "# en donde la expresión True equivale a 1 y la expresión false equivale a 0.\n",
    "\n",
    "ex1 = True + False # -> 1\n",
    "ex2 = True + True # -> 2"
   ]
  },
  {
   "cell_type": "markdown",
   "metadata": {
    "colab_type": "text",
    "id": "47vUAWwinSNh"
   },
   "source": [
    "En la casilla anterior definimos muchas variables, pero ahora lo importante es ver que podemos hacer con ellas. \n",
    "\n",
    "Imprimir:\n",
    "Lo primero y más simple es pedirle al computador que \"imprima\" el contenido de la variable con la función **print(** *variable o alguna expresión* **).**\n",
    "\n",
    "Consultar el tipo de variable:\n",
    "Con la función **type(** *variable o alguna expresión* **).** nos dirá que clase de objeto es el cual estamos trabajando, lo que nos ayudará muchas veces a saber que cosas puedo hacer (o no hacer) con una variable determinada.\n",
    "\n",
    "Y muchas otras operaciones, que dependen de cada variable, por ejemplo las variables númericas pueden contener operadores matematicos, una cadena de texto la podemos separar con sus espacios en palabras (en caso de ser una oración) o simplemente preguntarle al computador cuantos caracteres tiene esta, pero esto lo veremos más adelante.\n"
   ]
  },
  {
   "cell_type": "code",
   "execution_count": 3,
   "metadata": {
    "colab": {},
    "colab_type": "code",
    "id": "We-4a1nwl_aN",
    "outputId": "9288606b-9814-4d27-9289-7272be90ccd6"
   },
   "outputs": [
    {
     "name": "stdout",
     "output_type": "stream",
     "text": [
      "3\n",
      "True\n",
      "\n",
      " Ahora veamos como funciona la función type():\n",
      "<class 'int'>\n",
      "<class 'bool'>\n",
      "type(flag2)\n"
     ]
    }
   ],
   "source": [
    "#print\n",
    "\n",
    "print(num1)\n",
    "\n",
    "print(flag1)\n",
    "\n",
    "#type\n",
    "print(\"\\n Ahora veamos como funciona la función type():\") \n",
    "#la expresión \\n hace referencia a un salto de línea al imprimir un objeto string.\n",
    "\n",
    "print(type(3))\n",
    "\n",
    "print(type(flag2))\n",
    "\n",
    "print(\"type(flag2)\")\n",
    "## Como esta expresión la puse entre comillas el computador no se dio cuenta que\n",
    "## yo no estaba escribiendo una función y simplemente lo leyó como un string (cadena\n",
    "## de texto).\n",
    "\n"
   ]
  },
  {
   "cell_type": "markdown",
   "metadata": {
    "colab_type": "text",
    "id": "eHxOg_Xn53vH"
   },
   "source": [
    "**EJERCICIOS**. Practique con datos basicos; cree algunos objetos de datos e \"imprima\" su valor (o sea, use función \"**print()**\")"
   ]
  },
  {
   "cell_type": "code",
   "execution_count": 4,
   "metadata": {
    "colab": {},
    "colab_type": "code",
    "id": "AYGK2e9t56lO"
   },
   "outputs": [
    {
     "name": "stdout",
     "output_type": "stream",
     "text": [
      "hola\n",
      "54\n",
      "False\n"
     ]
    }
   ],
   "source": [
    "a = 'hola'\n",
    "b = 54\n",
    "c = False\n",
    "print(a)\n",
    "print(b)\n",
    "print(c)"
   ]
  },
  {
   "cell_type": "markdown",
   "metadata": {
    "colab_type": "text",
    "id": "BvAOLgDix-GH"
   },
   "source": [
    "#### Operadores matemáticos más comunes.\n",
    "\n",
    "La distribución estándar de python tiene las operaciones matemáticas mas comunes ya incorporadas. Por ejemplo,   \n",
    "\n",
    "\n",
    "*   Suma (y Resta): (*n* +(-) *m*)\n",
    "*   Multiplicación (y División) : (*n* * (/) *m*)\n",
    "*   Potencia: n**m (notar que no es el \"^\" que es más común ).\n",
    "*   División Parte Entera: n//m\n",
    "*   Resto de una división: n%m\n",
    "\n",
    "\n",
    "\n",
    "**EJERCICIOS**. Prueba estas operaciones sobre números:"
   ]
  },
  {
   "cell_type": "code",
   "execution_count": 5,
   "metadata": {
    "colab": {},
    "colab_type": "code",
    "id": "SfQzhOEwy388"
   },
   "outputs": [
    {
     "name": "stdout",
     "output_type": "stream",
     "text": [
      "0\n"
     ]
    }
   ],
   "source": [
    "a = 6%2\n",
    "print(a)\n",
    "# ingresa tus códigos aquí:\n",
    "\n",
    "\n",
    "\n"
   ]
  },
  {
   "cell_type": "markdown",
   "metadata": {
    "colab_type": "text",
    "id": "zuEEV5P8y1ab"
   },
   "source": [
    "#### Otras funciones matemáticas\n",
    "\n",
    "Otras operaciones/funciones debe ser importadas desde la librería \"math\".\n",
    "\n",
    "¿Qué es una librería?\n",
    "Python es un lenguaje de programación el cual tiene una cantidad enorme de funciones incorporadas, pero aún así ocurre que no todas las funciones vienen cargadas cada vez que uno abre la aplicación, porque si no sería muy pesado de abrir, para esto lo que se hace es que existen distintas librerías que son un conjunto de funciones hechas por gente de todo el mundo, en donde basta con cargarlas para obtenerlas.\n",
    "\n",
    "En este caso vamos a revisar la librería **math** que tiene muchas funciones asociadas a operadores matemáticos. Existen muchas otras librerías entre ellas librerías para hacer juegos, o para cargar mapas, para usar tiempo, entre otras.\n",
    "\n",
    "Ver https://docs.python.org/3/library/math.html para la lista completa de funciones disponibles"
   ]
  },
  {
   "cell_type": "code",
   "execution_count": 6,
   "metadata": {
    "colab": {},
    "colab_type": "code",
    "id": "52F-TxkmyAgc"
   },
   "outputs": [
    {
     "name": "stdout",
     "output_type": "stream",
     "text": [
      "1.0986122886681098\n",
      "2\n",
      "1.4142135623730951\n"
     ]
    }
   ],
   "source": [
    "# importamos funciones\n",
    "\n",
    "from math import ceil, log, sqrt\n",
    "\n",
    "a = log(3)\n",
    "print(a)\n",
    "\n",
    "##Entero mas cercano\n",
    "b = ceil(a)\n",
    "print(b)\n",
    "\n",
    "c = sqrt(b)\n",
    "print(c)"
   ]
  },
  {
   "cell_type": "markdown",
   "metadata": {
    "colab_type": "text",
    "id": "pdat3itAyoSI"
   },
   "source": [
    "**EJERCICIOS**. Prueba estas (y otras) operaciones matemáticas"
   ]
  },
  {
   "cell_type": "code",
   "execution_count": 8,
   "metadata": {
    "colab": {},
    "colab_type": "code",
    "id": "_hNXC3JF7oHH"
   },
   "outputs": [
    {
     "name": "stdout",
     "output_type": "stream",
     "text": [
      "2.0\n"
     ]
    }
   ],
   "source": [
    "# ingresar códigos aquí\n",
    "a = sqrt(4)\n",
    "print(a)"
   ]
  },
  {
   "cell_type": "markdown",
   "metadata": {
    "colab_type": "text",
    "id": "yQqh_kS4w6pQ"
   },
   "source": [
    "## TAREA 1 (4 puntos)\n",
    "\n",
    "1 - Imagine una persona está parada en la calle mirando un gran edificio. Dicha persona se encuentra parada a 1 kilometro de distancia lineal. Con la ayuda de un compas, la persona determinó que el angulo entre la línea de la calle y la linea hacia la punta del edificio es de 17 grados. ¿cuál es la altura del edificio? (ayuda: la librería **math** tiene funciones trigonometricas y el valor de $\\pi$.) *(2 puntos)*"
   ]
  },
  {
   "cell_type": "code",
   "execution_count": 1,
   "metadata": {
    "colab": {},
    "colab_type": "code",
    "id": "5YZ5El311ih4"
   },
   "outputs": [],
   "source": [
    "from math import tan, pi, radians"
   ]
  },
  {
   "cell_type": "code",
   "execution_count": 7,
   "metadata": {},
   "outputs": [],
   "source": [
    "angulo = radians(17)\n",
    "tangent = tan(angulo)\n",
    "dist = 1000\n",
    "\n",
    "altura = tangent * dist"
   ]
  },
  {
   "cell_type": "markdown",
   "metadata": {
    "colab_type": "text",
    "id": "SUiU-tJ3L0I1"
   },
   "source": [
    "2 - Pruebe su solución en el gráfico a continuación. *(0 puntos)*"
   ]
  },
  {
   "cell_type": "code",
   "execution_count": 8,
   "metadata": {
    "colab": {
     "base_uri": "https://localhost:8080/",
     "height": 367
    },
    "colab_type": "code",
    "id": "-kjbbL_GL0I2",
    "outputId": "edcd26a9-c521-48cf-83db-4dbc3e3da430"
   },
   "outputs": [
    {
     "data": {
      "image/png": "[encoded data removed]",
      "text/plain": [
       "<Figure size 1080x360 with 1 Axes>"
      ]
     },
     "metadata": {
      "needs_background": "light"
     },
     "output_type": "display_data"
    }
   ],
   "source": [
    "### NO MODIFICAR ESTAS LINEAS ###\n",
    "%matplotlib inline\n",
    "from helper_f import show_graph\n",
    "#################################\n",
    "\n",
    "solucion = altura # Acá ingrese su solución (puede hacer referencia a la variable anterior)\n",
    "\n",
    "show_graph(solucion)\n"
   ]
  },
  {
   "cell_type": "markdown",
   "metadata": {
    "colab_type": "text",
    "id": "MhOv1vNJL0I7"
   },
   "source": [
    "3 - Encuentre el digito verificador de su RUT. El algoritmo para calcular el digito verificador se puede revisar aqui: https://es.wikipedia.org/wiki/Rol_%C3%9Anico_Tributario *(2 puntos)*"
   ]
  },
  {
   "cell_type": "code",
   "execution_count": 14,
   "metadata": {
    "colab": {},
    "colab_type": "code",
    "id": "HsSAkLwcL0I8"
   },
   "outputs": [
    {
     "data": {
      "text/plain": [
       "154"
      ]
     },
     "execution_count": 14,
     "metadata": {},
     "output_type": "execute_result"
    }
   ],
   "source": [
    "nro_rut = [1,9,4,3,8,4,5,8]\n",
    "suma = nro_rut[7] * 2 + nro_rut[6] * 3 + nro_rut[5] * 4 + nro_rut[4] * 5 + nro_rut[3] * 6 + nro_rut[2] * 7 + nro_rut[1] * 2 + nro_rut[0] * 3\n",
    "suma"
   ]
  },
  {
   "cell_type": "code",
   "execution_count": 19,
   "metadata": {},
   "outputs": [
    {
     "name": "stdout",
     "output_type": "stream",
     "text": [
      "el digito verificador es 0\n"
     ]
    }
   ],
   "source": [
    "div = suma//11\n",
    "resto = suma%11\n",
    "print('el digito verificador es', resto)"
   ]
  },
  {
   "cell_type": "markdown",
   "metadata": {
    "colab_type": "text",
    "id": "uDSskxn5_kQU"
   },
   "source": [
    "### Repaso 2: Strings (texto)\n",
    "\n",
    "Los strings son objetos que nos permiten guardar caracteres en forma secuencial. Se pueden crear con apóstrofes ('), comillas simples (\") o la versión \"triple\" de estos (''' o \"\"\"). La regla principal es que se debe mantener la consistencia entre el inicio de un string y su término."
   ]
  },
  {
   "cell_type": "code",
   "execution_count": 39,
   "metadata": {
    "colab": {},
    "colab_type": "code",
    "id": "sGf0O9axAc5r"
   },
   "outputs": [
    {
     "name": "stdout",
     "output_type": "stream",
     "text": [
      "este texto tiene\n",
      "un salto de linea\n"
     ]
    }
   ],
   "source": [
    "# Creación de strings básicos\n",
    "\n",
    "text1 = 'Este es un texto'\n",
    "text2 = \"Este también es un texto\"\n",
    "text3 = 'este texto tiene\\nun salto de linea'\n",
    "##Cuando escribimos un string y agregamos el \"\\\" realizamos un salto de linea.\n",
    "print(text3)"
   ]
  },
  {
   "cell_type": "markdown",
   "metadata": {
    "colab_type": "text",
    "id": "qLx5lFY__kDP"
   },
   "source": [
    "Adicionalmente, también podemos realizar ciertas operaciones con strings tales como: Contar la cantidad de carácteres que contienen, concatenar o reemplazar partes de este."
   ]
  },
  {
   "cell_type": "code",
   "execution_count": 40,
   "metadata": {
    "colab": {},
    "colab_type": "code",
    "id": "bXfyt3gwTzC-"
   },
   "outputs": [
    {
     "name": "stdout",
     "output_type": "stream",
     "text": [
      "Para string1 obtenemos <class 'str'>\n",
      "String1 tiene 28 caractéres\n"
     ]
    }
   ],
   "source": [
    "string1 = \"Esto es una linea de texto. \"\n",
    "string2 = \"Nos sirve para explicar nuestros resultados\"\n",
    "\n",
    "\n",
    "#Con la función len() le podemos consultar al computador la longitud de un string.\n",
    "\n",
    "print(\"Para string1 obtenemos\", type(string1))\n",
    "print(\"String1 tiene\", len(string1), \"caractéres\")\n",
    "\n",
    "# Ojo: notar que la función \"print()\" nos permite ingresar un número indeterminado\n",
    "# de variables a imprimir. Cada una la separamos por una coma.\n",
    "# print() por defecto agregará un espacio en blanco entre cada valor.\n"
   ]
  },
  {
   "cell_type": "code",
   "execution_count": 12,
   "metadata": {
    "colab": {},
    "colab_type": "code",
    "id": "O3C9rGmUrNtV"
   },
   "outputs": [
    {
     "name": "stdout",
     "output_type": "stream",
     "text": [
      "Esto es una linea de texto. Nos sirve para explicar nuestros resultados\n",
      "Actualmente cuento con 4 dólares\n",
      "<class 'int'>\n",
      "<class 'str'>\n"
     ]
    }
   ],
   "source": [
    "\n",
    "#Si queremos \"unir\" dos textos que tenemos, podemos simplemente sumar dichas variables para concatenarlas\n",
    "\n",
    "print(string1 + string2)\n",
    "\n",
    "\n",
    "\n",
    "# Al momento de imprimir un texto, también es posible llamar a alguna variable que tengamos almacenada.\n",
    "# En Python3, la sintaxis para ello es la siguiente:\n",
    "nr = 4\n",
    "#Con el {} hacemos un formato, y con el punto format lo agregamos al string\n",
    "print(\"Actualmente cuento con {} dólares\".format(nr))\n",
    "\n",
    "#También podemos cambiar la clase de un objeto\n",
    "num1=5\n",
    "print(type(num1))\n",
    "num1=str(num1) #Lo que hicimos en esta línea fue hacer que el objeto num1 pasase de ser un objeto de tipo entero a string\n",
    "## ¿Para que sirve esto? Para usar los atributos o operadores que más nos parezcan útiles.\n",
    "print(type(num1))\n"
   ]
  },
  {
   "cell_type": "code",
   "execution_count": 41,
   "metadata": {
    "colab": {},
    "colab_type": "code",
    "id": "_3PVntjhrPfd"
   },
   "outputs": [
    {
     "name": "stdout",
     "output_type": "stream",
     "text": [
      "Esto es otra linea de texto. \n"
     ]
    }
   ],
   "source": [
    "\n",
    "# Como es de esperar, podemos reemplazar ciertos caracteres de un texto por otros:\n",
    "\n",
    "nuevastr = string1.replace(\"una\", \"otra\")\n",
    "print(nuevastr)"
   ]
  },
  {
   "cell_type": "markdown",
   "metadata": {
    "colab_type": "text",
    "id": "tdhY4IxTAb9N"
   },
   "source": [
    "**EJERCICIOS**. Pruebe algunas de las operaciones sobre strings que se detallan aqui: \n",
    "\n",
    "https://www.programiz.com/python-programming/methods/string  \n",
    "(enfocarse en aquellas que dicen *Python String*)"
   ]
  },
  {
   "cell_type": "code",
   "execution_count": 42,
   "metadata": {
    "colab": {},
    "colab_type": "code",
    "id": "kcqU7lobAZO7"
   },
   "outputs": [
    {
     "name": "stdout",
     "output_type": "stream",
     "text": [
      "1\n"
     ]
    }
   ],
   "source": [
    "# ingresar códigos aquí\n",
    "string12 = 'hola'\n",
    "print(string12.count('a'))\n",
    "##Join para concatenar string"
   ]
  },
  {
   "cell_type": "markdown",
   "metadata": {
    "colab_type": "text",
    "id": "vlbN2QnRU0tF"
   },
   "source": [
    "## TAREA 2 (2 puntos)\n",
    "\n",
    "1 - Usted es un periodista que, dentro de otras cosas, realiza cobertura a las cifras relacionadas a Covid en Chile. Después de algunas semanas de trabajo, pensó en automatizar los titulares de sus noticias, los cuales siempre son: \"Minsal reporta hoy **X** decesos y **Y** casos nuevos: Positividad nacional fue del **Z**%\". Escriba un string que le permita modificar los valores X, Y y Z para adaptarse a lo que está ocurriendo en el país día a día. Imprima ese valor. *(1 punto)*"
   ]
  },
  {
   "cell_type": "code",
   "execution_count": 60,
   "metadata": {
    "colab": {},
    "colab_type": "code",
    "id": "jm9l1K7emvJ-"
   },
   "outputs": [
    {
     "name": "stdout",
     "output_type": "stream",
     "text": [
      "Ingrese el numero de decesos:58\n",
      "Ingrese el numero de casos nuevos:4430\n",
      "Ingrese el % de positividad:11\n",
      "Minsal reporta hoy 58 decesos y 4430 casos nuevos: Positividad nacional fue de 11 %\n"
     ]
    }
   ],
   "source": [
    "# ingresar códigos aquí\n",
    "X = input('Ingrese el numero de decesos:')\n",
    "Y = input('Ingrese el numero de casos nuevos:')\n",
    "Z = input('Ingrese el % de positividad:')\n",
    "print('Minsal reporta hoy',X,'decesos y',Y,'casos nuevos: Positividad nacional fue de',Z,'%')"
   ]
  },
  {
   "cell_type": "markdown",
   "metadata": {
    "colab_type": "text",
    "id": "IE7nfa0gL0Jc"
   },
   "source": [
    "2 - Ahora, usted se dio cuenta que en los últimos 10 días ha estado reportando mal las cifras de Covid, ya que los decesos eran casos nuevos, y los casos nuevos eran decesos. Escriba un procedimiento para corregir los títulares. *(1 punto)*"
   ]
  },
  {
   "cell_type": "code",
   "execution_count": 55,
   "metadata": {
    "colab": {},
    "colab_type": "code",
    "id": "IwGxs-2gL0Jd",
    "outputId": "3fb2d2d5-8ec6-4e29-d8e3-d3751c797222"
   },
   "outputs": [
    {
     "name": "stdout",
     "output_type": "stream",
     "text": [
      "\n",
      "Minsal reporta hoy 4430 decesos y 58 casos nuevos: Positividad nacional fue del 11%\n",
      "Minsal reporta hoy 5653 decesos y 78 casos nuevos: Positividad nacional fue del 11%\n",
      "Minsal reporta hoy 3534 decesos y 89 casos nuevos: Positividad nacional fue del 12%\n",
      "Minsal reporta hoy 3498 decesos y 95 casos nuevos: Positividad nacional fue del 13%\n",
      "Minsal reporta hoy 2988 decesos y 133 casos nuevos: Positividad nacional fue del 12%\n",
      "Minsal reporta hoy 2761 decesos y 24 casos nuevos: Positividad nacional fue del 11%\n",
      "Minsal reporta hoy 3209 decesos y 78 casos nuevos: Positividad nacional fue del 10%\n",
      "Minsal reporta hoy 2320 decesos y 96 casos nuevos: Positividad nacional fue del 9%\n",
      "Minsal reporta hoy 1576 decesos y 81 casos nuevos: Positividad nacional fue del 8%\n",
      "Minsal reporta hoy 2643 decesos y 43 casos nuevos: Positividad nacional fue del 7%\n",
      "\n"
     ]
    }
   ],
   "source": [
    "titulares = '''\n",
    "Minsal reporta hoy 4430 decesos y 58 casos nuevos: Positividad nacional fue del 11%\n",
    "Minsal reporta hoy 5653 decesos y 78 casos nuevos: Positividad nacional fue del 11%\n",
    "Minsal reporta hoy 3534 decesos y 89 casos nuevos: Positividad nacional fue del 12%\n",
    "Minsal reporta hoy 3498 decesos y 95 casos nuevos: Positividad nacional fue del 13%\n",
    "Minsal reporta hoy 2988 decesos y 133 casos nuevos: Positividad nacional fue del 12%\n",
    "Minsal reporta hoy 2761 decesos y 24 casos nuevos: Positividad nacional fue del 11%\n",
    "Minsal reporta hoy 3209 decesos y 78 casos nuevos: Positividad nacional fue del 10%\n",
    "Minsal reporta hoy 2320 decesos y 96 casos nuevos: Positividad nacional fue del 9%\n",
    "Minsal reporta hoy 1576 decesos y 81 casos nuevos: Positividad nacional fue del 8%\n",
    "Minsal reporta hoy 2643 decesos y 43 casos nuevos: Positividad nacional fue del 7%\n",
    "'''\n",
    "\n",
    "# escriba aquí su solución\n",
    "\n",
    "\n",
    "print(titulares)"
   ]
  },
  {
   "cell_type": "code",
   "execution_count": 71,
   "metadata": {},
   "outputs": [],
   "source": [
    "casos_nuevos = [4430,5653,3534,3498,2988,2761,3209,2320,1576,2643]\n",
    "decesos = [58,78,89,95,133,24,78,96,81,43]"
   ]
  },
  {
   "cell_type": "code",
   "execution_count": 72,
   "metadata": {},
   "outputs": [
    {
     "name": "stdout",
     "output_type": "stream",
     "text": [
      "Minsal reporta hoy 58 decesos y 4430 casos nuevos: Positividad nacional fue del 11%\n",
      "Minsal reporta hoy 78 decesos y 5653 casos nuevos: Positividad nacional fue del 11%\n",
      "Minsal reporta hoy 89 decesos y 3534 casos nuevos: Positividad nacional fue del 12%\n",
      "Minsal reporta hoy 95 decesos y 3498 casos nuevos: Positividad nacional fue del 13%\n",
      "Minsal reporta hoy 133 decesos y 2988 casos nuevos: Positividad nacional fue del 12%\n",
      "Minsal reporta hoy 24 decesos y 2761 casos nuevos: Positividad nacional fue del 11%\n",
      "Minsal reporta hoy 78 decesos y 3209 casos nuevos: Positividad nacional fue del 10%\n",
      "Minsal reporta hoy 96 decesos y 2320 casos nuevos: Positividad nacional fue del 9%\n",
      "Minsal reporta hoy 81 decesos y 1576 casos nuevos: Positividad nacional fue del 8%\n",
      "Minsal reporta hoy 43 decesos y 2643 casos nuevos: Positividad nacional fue del 7%\n"
     ]
    }
   ],
   "source": [
    "titulares1 = '''Minsal reporta hoy {} decesos y {} casos nuevos: Positividad nacional fue del 11%\n",
    "Minsal reporta hoy {} decesos y {} casos nuevos: Positividad nacional fue del 11%\n",
    "Minsal reporta hoy {} decesos y {} casos nuevos: Positividad nacional fue del 12%\n",
    "Minsal reporta hoy {} decesos y {} casos nuevos: Positividad nacional fue del 13%\n",
    "Minsal reporta hoy {} decesos y {} casos nuevos: Positividad nacional fue del 12%\n",
    "Minsal reporta hoy {} decesos y {} casos nuevos: Positividad nacional fue del 11%\n",
    "Minsal reporta hoy {} decesos y {} casos nuevos: Positividad nacional fue del 10%\n",
    "Minsal reporta hoy {} decesos y {} casos nuevos: Positividad nacional fue del 9%\n",
    "Minsal reporta hoy {} decesos y {} casos nuevos: Positividad nacional fue del 8%\n",
    "Minsal reporta hoy {} decesos y {} casos nuevos: Positividad nacional fue del 7%'''\n",
    "\n",
    "\n",
    "print(titulares1.format(decesos[0],casos_nuevos[0],\n",
    "                        decesos[1],casos_nuevos[1],\n",
    "                        decesos[2],casos_nuevos[2],\n",
    "                        decesos[3],casos_nuevos[3],\n",
    "                        decesos[4],casos_nuevos[4],\n",
    "                        decesos[5],casos_nuevos[5],\n",
    "                        decesos[6],casos_nuevos[6],\n",
    "                        decesos[7],casos_nuevos[7],\n",
    "                        decesos[8],casos_nuevos[8],\n",
    "                        decesos[9],casos_nuevos[9]))"
   ]
  },
  {
   "cell_type": "markdown",
   "metadata": {
    "colab_type": "text",
    "id": "sZjIfYDMRgcY"
   },
   "source": [
    "### Repaso 3: Sentencias de control condicionales\n",
    "\n",
    "Las sentencias condicionales nos permiten establecer cursos de acción a realizarse si es que se cumplen acciones previamente definidas. Estas siguen patrones como el siguiente.\n",
    "\n",
    "```\n",
    "if condición:\n",
    "    Ejecutar si condicion es cierta\n",
    "elif condicion:\n",
    "    Ejecutar si se cumple la segunda condicion (y no se cumplió la primera)\n",
    "else:\n",
    "    Ejecutar si no se cumple ninguna condición anterior\n",
    "    \n",
    "```\n",
    "\n",
    "Los operadores logicos disponibles en Python son:\n",
    "\n",
    "- == , !=  (Igual a, Distinto a)\n",
    "- <, >,<=,>=  (Mayor, menor, mayor o igual, menor o igual)\n",
    "- [not] in : para chequear pertenencia a una lista\n",
    "- and, or : para unir múltiples condiciones"
   ]
  },
  {
   "cell_type": "code",
   "execution_count": 18,
   "metadata": {
    "colab": {},
    "colab_type": "code",
    "id": "NKTFxj66Rgca"
   },
   "outputs": [
    {
     "name": "stdout",
     "output_type": "stream",
     "text": [
      "Escriba un número positivo: -5\n",
      "El número -5 NO es positivo\n"
     ]
    }
   ],
   "source": [
    "# Ejemplo 1:\n",
    "\n",
    "numero = int(input(\"Escriba un número positivo: \"))\n",
    "\n",
    "if numero < 0:\n",
    "    print(f\"El número {numero} NO es positivo\")\n",
    "else:\n",
    "    print('Gracias por seguir las instrucciones')\n",
    "    \n",
    "#notar que la expresión: print(f\"El número {numero} NO es positivo\")\n",
    "#es equivalente a print(\"El numero \", numero, \"NO es positivo\")\n"
   ]
  },
  {
   "cell_type": "code",
   "execution_count": 20,
   "metadata": {
    "colab": {},
    "colab_type": "code",
    "id": "HxsMficHrKif"
   },
   "outputs": [
    {
     "name": "stdout",
     "output_type": "stream",
     "text": [
      "¿Cuántos años tiene? 23\n",
      "Usted es mayor de edad\n"
     ]
    }
   ],
   "source": [
    "# Ejemplo 2:\n",
    "edad = int(input(\"¿Cuántos años tiene? \"))\n",
    "\n",
    "if edad <= 0 or edad >= 150:\n",
    "    print(\"Favor diga la verdad\")\n",
    "elif edad < 18:\n",
    "    print(\"Usted es menor de edad\")\n",
    "else:\n",
    "    print(\"Usted es mayor de edad\")\n",
    "  "
   ]
  },
  {
   "cell_type": "markdown",
   "metadata": {
    "colab_type": "text",
    "id": "yrRd3xO8Rgcg"
   },
   "source": [
    "**EJERCICIOS**. Practique con condiciones simples. Por ejemplo, cree una sentencia que le permita distinguir si un número es mayor, menor o igual a 50."
   ]
  },
  {
   "cell_type": "code",
   "execution_count": 80,
   "metadata": {
    "colab": {},
    "colab_type": "code",
    "id": "Inzm2oVJRgch"
   },
   "outputs": [
    {
     "name": "stdout",
     "output_type": "stream",
     "text": [
      "51\n",
      "Numero mayor a 50\n"
     ]
    }
   ],
   "source": [
    "numero = int(input())\n",
    "if numero > 50:\n",
    "    print('Numero mayor a 50')\n",
    "elif numero == 50:\n",
    "    print('Numero igual a 50')\n",
    "else:\n",
    "    print('Numero menor a 50')"
   ]
  },
  {
   "cell_type": "markdown",
   "metadata": {
    "colab_type": "text",
    "id": "9wwyIhkFjaKy"
   },
   "source": [
    "**EJERCICIOS**. Piense cuál será el output del siguiente código:\n",
    "\n",
    "```\n",
    "c = True\n",
    "d = False\n",
    "c = c and d\n",
    "c = not c or d\n",
    "print(c)\n",
    "```\n",
    "\n",
    "¿es True? ¿False? ¿por qué?\n",
    "\n",
    "(Ayuda: revise la precedencia de operaciones de Python aquí: http://www.mathcs.emory.edu/~valerie/courses/fall10/155/resources/op_precedence.html)"
   ]
  },
  {
   "cell_type": "code",
   "execution_count": 21,
   "metadata": {},
   "outputs": [
    {
     "name": "stdout",
     "output_type": "stream",
     "text": [
      "True\n"
     ]
    }
   ],
   "source": [
    "#Toma primero el Not y despues el or\n",
    "c = True\n",
    "d = False\n",
    "c = c and d\n",
    "c = not c or d\n",
    "print(c)"
   ]
  },
  {
   "cell_type": "markdown",
   "metadata": {
    "colab_type": "text",
    "id": "_I5vJujLwcSp"
   },
   "source": [
    "## TAREA 3 (4 puntos)\n",
    "\n",
    "1 - Usted es nuevamente el periodista que automatiza sus titulares. Esta vez, se propuso automatizar sus titulares de cobertura del dólar, siendo el último de ellos el siguiente: \"Dólar cae esta mañana y desciende hasta los $790, mientras que cobre cerró al alza\". Para confeccionar los titulares, usted recibe cuatro datos: dolar_anterior, dolar_actual, cobre_anterior, cobre_actual.\n",
    "\n",
    "Escriba un procedimiento que le permita automatizar su titular, dados los parámetros mencionados. *(1 punto)*"
   ]
  },
  {
   "cell_type": "code",
   "execution_count": 1,
   "metadata": {
    "colab": {},
    "colab_type": "code",
    "id": "X-c0yfVNRl11"
   },
   "outputs": [
    {
     "name": "stdout",
     "output_type": "stream",
     "text": [
      "Dolar sube esta mañana y asciende hasta los $ 790 , mientras que cobre cerro al alza.\n"
     ]
    }
   ],
   "source": [
    "dolar_anterior, dolar_actual, cobre_anterior, cobre_actual  = (780, 790, 2.7, 2.95)\n",
    "\n",
    "# ingresar códigos aquí\n",
    "if dolar_anterior < dolar_actual and cobre_anterior < cobre_actual:\n",
    "    print('Dolar sube esta mañana y asciende hasta los $',dolar_actual,', mientras que cobre cerro al alza.')\n",
    "elif dolar_anterior > dolar_actual and cobre_anterior > cobre_actual:\n",
    "    print('Dolar cae esta mañana y desciende hasta los $',dolar_actual, 'mientras que cobre cerro a la baja.')\n",
    "elif dolar_anterior < dolar_actual and cobre_anterior == cobre_actual:\n",
    "    print('Dolar sube esta mañana y asciende hasta los $', dolar_actual,'mientras que cobre cerro al mismo precio.')\n",
    "elif dolar_anterior > dolar_actual and cobre_anterior == cobre_actual:\n",
    "    print('Dolar car esta mañana y desciende hasta los $', dolar_actual,'mientras que cobre cerro al mismo precio.')\n",
    "elif dolar_anterior == dolar_actual and cobre_anterior > cobre_actual:\n",
    "    print('Dolar se mantiene esta mañana a $', dolar_actual,'mientras que cobre cerro a la baja.')\n",
    "elif dolar_anterior == dolar_actual and cobre_anterior < cobre_actual:\n",
    "    print('Dolar se mantiene esta mañana a $', dolar_actual,'mientras que cobre cerro al alza.')\n",
    "else: \n",
    "    print('Dolar se mantiene esta mañana a $',dolar_actual, 'y el cobre cerro al mismo precio.')"
   ]
  },
  {
   "cell_type": "markdown",
   "metadata": {
    "colab_type": "text",
    "id": "_j1M0GZ3lxrZ"
   },
   "source": [
    "2 - David posee un auto cuyo valor es de 1000 y está considerando asegurarlo contra cualquier accidente (cobertura completa). En base a información histórica, ha determinado que la probabilidad de que nunca le pase nada es X\\%, pero con probabilidad (100 - X)\\% su auto quedaría severamente dañado, quedando con un valor residual de 80. Genere un código que le permita establecer, dado un valor de X, la prima que David estaría dispuesto a pagar. David es averso al riesgo (su función de utilidad está descrita por U(w) = $w^{1/3}$ ) *(2 puntos)*\n",
    "\n"
   ]
  },
  {
   "cell_type": "code",
   "execution_count": 16,
   "metadata": {
    "colab": {},
    "colab_type": "code",
    "id": "djEAWx60v9-W"
   },
   "outputs": [
    {
     "name": "stdout",
     "output_type": "stream",
     "text": [
      "Ingrese Probabilidad de que nunca pase nada 0.5\n",
      "La esperanza de la utilidad sin seguro es 7.154\n",
      "La prima que David estaria dispuesto a pagar seria  633.86\n"
     ]
    }
   ],
   "source": [
    "# ingresar códigos aquí\n",
    "X = float(input('Ingrese Probabilidad de que nunca pase nada '))\n",
    "sin_seguro = round((1000**(1/3))*X + (1-X)*(80**(1/3)),3)\n",
    "print('La esperanza de la utilidad sin seguro es',sin_seguro)\n",
    "prima = round(1000 - sin_seguro**3,3)\n",
    "print('La prima que David estaria dispuesto a pagar seria ',prima)\n"
   ]
  },
  {
   "cell_type": "markdown",
   "metadata": {
    "colab_type": "text",
    "id": "SDgxER30oMDn"
   },
   "source": [
    "3 - ¿Qué hará David si le venden una póliza con cobertura completa, por $100? Escriba un código que permita responder esta pregunta para distintos valores de X. *(1 punto)*"
   ]
  },
  {
   "cell_type": "code",
   "execution_count": 45,
   "metadata": {
    "colab": {},
    "colab_type": "code",
    "id": "DfkP2-DHoNKq"
   },
   "outputs": [
    {
     "name": "stdout",
     "output_type": "stream",
     "text": [
      "Ingrese Probabilidad de que nunca pase nada 0.95\n",
      "David NO comprará el seguro.\n"
     ]
    }
   ],
   "source": [
    "#### ingresar códigos aquí\n",
    "X = float(input('Ingrese Probabilidad de que nunca pase nada '))\n",
    "con_seguro = (1000-100)**(1/3)\n",
    "if round((1000**(1/3))*X + (1-X)*(80**(1/3)),3) < con_seguro:\n",
    "    print('David comprará el seguro.')\n",
    "elif round((1000**(1/3))*X + (1-X)*(80**(1/3)),3) == con_seguro:\n",
    "    print('David esta indiferente entre estar con o sin seguro.')\n",
    "else:\n",
    "    print('David NO comprará el seguro.')"
   ]
  },
  {
   "cell_type": "markdown",
   "metadata": {
    "colab_type": "text",
    "id": "aZoWbPNkm3pK"
   },
   "source": [
    "<hr/>\n",
    "<center> <h1>Fin del laboratorio.</h1> </center>"
   ]
  }
 ],
 "metadata": {
  "colab": {
   "collapsed_sections": [],
   "name": "Laboratorio-1_EyCD.ipynb",
   "provenance": []
  },
  "kernelspec": {
   "display_name": "Python 3",
   "language": "python",
   "name": "python3"
  },
  "language_info": {
   "codemirror_mode": {
    "name": "ipython",
    "version": 3
   },
   "file_extension": ".py",
   "mimetype": "text/x-python",
   "name": "python",
   "nbconvert_exporter": "python",
   "pygments_lexer": "ipython3",
   "version": "3.8.3"
  }
 },
 "nbformat": 4,
 "nbformat_minor": 1
}
